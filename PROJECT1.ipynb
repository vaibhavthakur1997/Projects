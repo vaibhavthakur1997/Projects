{
 "cells": [
  {
   "cell_type": "code",
   "execution_count": 1,
   "id": "bfcf0203-007e-4539-a95d-5dddc726edc8",
   "metadata": {},
   "outputs": [
    {
     "name": "stdout",
     "output_type": "stream",
     "text": [
      "Please select a operation:\n",
      " 1. Addition\n",
      "2. Substraction\n",
      "3. Multiplication\n",
      "4. Division\n",
      "5. Average\n",
      "\n"
     ]
    },
    {
     "name": "stdin",
     "output_type": "stream",
     "text": [
      "Select a operation from 1,2,3,4,5:  1\n",
      "Enter first number:  444\n",
      "Enter second number:  555\n"
     ]
    },
    {
     "name": "stdout",
     "output_type": "stream",
     "text": [
      "444 + 555 =  999\n"
     ]
    }
   ],
   "source": [
    "# python program to create a simple calculator\n",
    "\n",
    "# 3 steps to build calculator program\n",
    "#   1. functions for operations \n",
    "#   2. user input \n",
    "#   3. print result \n",
    "\n",
    "# step-1: create functions:\n",
    "# Function to add two numbers \n",
    "def add(num1,num2):\n",
    "     return num1 + num2 \n",
    "\n",
    "# Function to substract two numbers \n",
    "def sub(num1,num2):\n",
    "     return num1 - num2 \n",
    "\n",
    "# Function to multiply two numbers \n",
    "def multiply(num1,num2):\n",
    "     return num1 * num2  \n",
    "\n",
    "# Function to divide two numbers \n",
    "def divide(num1,num2):\n",
    "     return num1 / num2 \n",
    "\n",
    "# Function to average two numbers \n",
    "def avg(num1,num2):\n",
    "     return (num1 + num2)/2  \n",
    "\n",
    "#Step-2: user input \n",
    "print(\"Please select a operation:\\n \" \\\n",
    "      \"1. Addition\\n\" \\\n",
    "      \"2. Substraction\\n\" \\\n",
    "      \"3. Multiplication\\n\" \\\n",
    "      \"4. Division\\n\" \\\n",
    "      \"5. Average\\n\") \n",
    "\n",
    "select = int(input(\"Select a operation from 1,2,3,4,5: \")) \n",
    "\n",
    "number1 = int(input(\"Enter first number: \"))\n",
    "number2 = int(input(\"Enter second number: \"))\n",
    "\n",
    "#Step-3: Print the result \n",
    "\n",
    "if select == 1:\n",
    "     print(number1, \"+\", number2, \"= \", \\\n",
    "           add(number1, number2))\n",
    "     \n",
    "elif select == 2:\n",
    "     print(number1, \"-\", number2, \"= \", \\\n",
    "           sub(number1, number2)) \n",
    "     \n",
    "elif select == 3:\n",
    "     print(number1, \"*\", number2, \"= \", \\\n",
    "           multiply(number1, number2))\n",
    "     \n",
    "elif select == 4:\n",
    "     print(number1, \"/\", number2, \"= \", \\\n",
    "           divide(number1, number2))\n",
    "\n",
    "elif select == 5:\n",
    "     print(\"(\",number1, \"+\", number2, \")\", \"/\", \"2\", \"= \", \\\n",
    "           avg(number1, number2)) \n",
    "    \n",
    "else:\n",
    "     print(\"Invalid operation! Pls select again!\")"
   ]
  },
  {
   "cell_type": "code",
   "execution_count": null,
   "id": "e94e529e-af5b-4dce-b1be-28ed7f46bc7b",
   "metadata": {},
   "outputs": [
    {
     "name": "stdout",
     "output_type": "stream",
     "text": [
      "Welcome to the Password Strength Checker!\n"
     ]
    },
    {
     "name": "stdin",
     "output_type": "stream",
     "text": [
      "\n",
      "Enter your password (or type 'exit' to quit):  Pass123\n"
     ]
    },
    {
     "name": "stdout",
     "output_type": "stream",
     "text": [
      "Weak: Password must be at least 8 characters long.\n"
     ]
    },
    {
     "name": "stdin",
     "output_type": "stream",
     "text": [
      "\n",
      "Enter your password (or type 'exit' to quit):  Password123\n"
     ]
    },
    {
     "name": "stdout",
     "output_type": "stream",
     "text": [
      "Medium: Add special characters to make your password stronger.\n"
     ]
    },
    {
     "name": "stdin",
     "output_type": "stream",
     "text": [
      "\n",
      "Enter your password (or type 'exit' to quit):  Password@123\n"
     ]
    },
    {
     "name": "stdout",
     "output_type": "stream",
     "text": [
      "Strong: Your password is secure!\n"
     ]
    },
    {
     "name": "stdin",
     "output_type": "stream",
     "text": [
      "\n",
      "Enter your password (or type 'exit' to quit):  SDDFSDSDF\n"
     ]
    },
    {
     "name": "stdout",
     "output_type": "stream",
     "text": [
      "Weak: Password must include at least one number.\n"
     ]
    },
    {
     "name": "stdin",
     "output_type": "stream",
     "text": [
      "\n",
      "Enter your password (or type 'exit' to quit):  A1ASDASD1\n"
     ]
    },
    {
     "name": "stdout",
     "output_type": "stream",
     "text": [
      "Weak: Password must include at least one lowercase letter.\n"
     ]
    },
    {
     "name": "stdin",
     "output_type": "stream",
     "text": [
      "\n",
      "Enter your password (or type 'exit' to quit):  Asdsdfsddf111\n"
     ]
    },
    {
     "name": "stdout",
     "output_type": "stream",
     "text": [
      "Medium: Add special characters to make your password stronger.\n"
     ]
    },
    {
     "name": "stdin",
     "output_type": "stream",
     "text": [
      "\n",
      "Enter your password (or type 'exit' to quit):  Aasdasda@12\n"
     ]
    },
    {
     "name": "stdout",
     "output_type": "stream",
     "text": [
      "Strong: Your password is secure!\n"
     ]
    }
   ],
   "source": [
    "# password strength checker\n",
    "\n",
    "import re \n",
    "\n",
    "# password strength check conditions:\n",
    "# min 8 chars, digit, uppercase, lowercase, special char\n",
    "\n",
    "def check_password_strength(password):\n",
    "    \"\"\"\n",
    "    Function to check the strength of a password.\n",
    "    \"\"\"\n",
    "    if len(password) < 8:\n",
    "        return \"Weak: Password must be at least 8 characters long.\"\n",
    "    \n",
    "    if not any(char.isdigit() for char in password):\n",
    "        return \"Weak: Password must include at least one number.\"\n",
    "    \n",
    "    if not any(char.isupper() for char in password):\n",
    "        return \"Weak: Password must include at least one uppercase letter.\"\n",
    "    \n",
    "    if not any(char.islower() for char in password):\n",
    "        return \"Weak: Password must include at least one lowercase letter.\"\n",
    "    \n",
    "    if not re.search(r'[!@#$%^&*(),.?\":{}|<>]', password):\n",
    "        return \"Medium: Add special characters to make your password stronger.\"\n",
    "    \n",
    "    return \"Strong: Your password is secure!\"\n",
    "\n",
    "def password_checker():\n",
    "    \"\"\"\n",
    "    Main function to take user input and check password strength.\n",
    "    \"\"\"\n",
    "    print(\"Welcome to the Password Strength Checker!\")\n",
    "\n",
    "    while True:\n",
    "        password = input(\"\\nEnter your password (or type 'exit' to quit): \")\n",
    "        \n",
    "        if password.lower() == \"exit\":\n",
    "            print(\"Thank you for using the Password Strength Checker! Goodbye!\")\n",
    "            break\n",
    "        \n",
    "        result = check_password_strength(password)\n",
    "        print(result)\n",
    "\n",
    "\n",
    "# Run the password checker\n",
    "if __name__ == \"__main__\":\n",
    "    password_checker()"
   ]
  }
 ],
 "metadata": {
  "kernelspec": {
   "display_name": "Python 3 (ipykernel)",
   "language": "python",
   "name": "python3"
  },
  "language_info": {
   "codemirror_mode": {
    "name": "ipython",
    "version": 3
   },
   "file_extension": ".py",
   "mimetype": "text/x-python",
   "name": "python",
   "nbconvert_exporter": "python",
   "pygments_lexer": "ipython3",
   "version": "3.12.4"
  }
 },
 "nbformat": 4,
 "nbformat_minor": 5
}
